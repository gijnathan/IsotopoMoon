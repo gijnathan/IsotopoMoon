{
 "cells": [
  {
   "cell_type": "code",
   "execution_count": null,
   "metadata": {},
   "outputs": [],
   "source": [
    "# atmosphere and frost one reservoir"
   ]
  },
  {
   "cell_type": "code",
   "execution_count": 1,
   "metadata": {},
   "outputs": [],
   "source": [
    "import pandas as pd\n",
    "import numpy as np\n",
    "import math\n",
    "import datetime\n",
    "import isotope_evolution as ie"
   ]
  },
  {
   "cell_type": "code",
   "execution_count": null,
   "metadata": {},
   "outputs": [],
   "source": []
  },
  {
   "cell_type": "code",
   "execution_count": 2,
   "metadata": {},
   "outputs": [],
   "source": [
    "### INPUTS ###\n",
    "\n",
    "t_step_Myr = 1.e-1 # time step in Myr\n",
    "end_time_Myr = 4570 # end time in Myr\n",
    "nr_step = 1.\n",
    "nr_tol = 1.e5\n",
    "\n",
    "### RESERVOIRS ###\n",
    "# deep mantle\n",
    "DM_mass_f = \"N\" # \"N\" if 0 mass. mantle mass S fraction of min and max of total mantle\n",
    "DM_mass_f_sil = \"N\" # \"N\" if 0 mass. mantle mass silicate fraction of min and max of total mantle\n",
    "DM_ST = \"N\"\n",
    "DM_33d = \"\"\n",
    "DM_34d = \"\"\n",
    "DM_36d = \"\"\n",
    "# mantle\n",
    "M_mass_f = 0.1257 # mantle mass S fraction of min and max [0.1257]\n",
    "M_mass_f_sil = M_mass_f # mantle mass silicate fraction of min and max of total mantle\n",
    "M_ST = \"N\"\n",
    "M_33d = 0.\n",
    "M_34d = 0.\n",
    "M_36d = 0.\n",
    "# frost (crust)\n",
    "F_mass_f = 0.\n",
    "F_ST = \"N\"\n",
    "F_33d = \"\"\n",
    "F_34d = \"\"\n",
    "F_36d = \"\" \n",
    "# silicate-sulfate (crust)\n",
    "SS_mass_f = 0.\n",
    "SS_ST = \"N\"\n",
    "SS_33d = \"\"\n",
    "SS_34d = \"\"\n",
    "SS_36d = \"\" \n",
    "# space\n",
    "S_ST = \"N\"\n",
    "S_33d = \"\"\n",
    "S_34d = \"\"\n",
    "S_36d = \"\"\n",
    "\n",
    "rate_f = {\"pd\":1., # [1. all] \"N\" = 0.\n",
    "         \"pi\":1.,\n",
    "         \"ei\":1.,\n",
    "         \"ed\":1.,\n",
    "         \"ac\":1.,\n",
    "         \"rc\":1.,\n",
    "         \"ec\":1.}\n",
    "\n",
    "# options\n",
    "oscillate = \"N\" # does the system oscillate or not?\n",
    "resurf_cm_yr = 1. # resrufacing rate in cm/yr (today rate = 1.0)\n",
    "sil_mag_S = 0.001 # mass fraction S in mantle melt\n",
    "thick_C = 40000. # crustal thickness m - min = 30000, max = 50000\n",
    "f_S2 = 0.2 # fraction of S2 for SO2 due to homogenous gas equilibria [0.2]\n",
    "f_pl2mo = 0.8 # fraction of mantle melting that goes to plutons [0.8]\n",
    "f_sq = 0.25 # fraction of sulfate sequestration from gas [0.25]\n",
    "f_deep = 0. # fraction of mantle melting rate that is added from the deep mantle if present [0.]\n",
    "f_remobilised = 1. # fraction of f_crust_returned that is remobilised [1.]\n",
    "f_pu = 0.5 # fraction of material that could be lost to space that is [0.5]"
   ]
  },
  {
   "cell_type": "code",
   "execution_count": 3,
   "metadata": {},
   "outputs": [
    {
     "name": "stdout",
     "output_type": "stream",
     "text": [
      "start 2025-08-06 16:17:01.116843\n",
      "100.0 6.43912203744691 2025-08-06 16:17:10.343825\n",
      "200.0 8.056651135569343 2025-08-06 16:17:22.354222\n",
      "300.0 9.713317967548054 2025-08-06 16:17:34.840960\n",
      "400.0 11.410994317663961 2025-08-06 16:17:50.525022\n",
      "500.0 13.151687813176808 2025-08-06 16:18:09.449219\n",
      "600.0 14.93755530802624 2025-08-06 16:18:30.272200\n",
      "700.0 16.770917949666213 2025-08-06 16:18:52.744941\n",
      "800.0 18.654278188985224 2025-08-06 16:19:18.143164\n",
      "900.0 20.59033904102267 2025-08-06 16:19:45.758533\n",
      "1000.0 22.582025962735717 2025-08-06 16:20:18.710527\n",
      "1100.0 24.632511785124574 2025-08-06 16:20:54.322950\n"
     ]
    },
    {
     "ename": "KeyboardInterrupt",
     "evalue": "",
     "output_type": "error",
     "traceback": [
      "\u001b[0;31m---------------------------------------------------------------------------\u001b[0m",
      "\u001b[0;31mKeyboardInterrupt\u001b[0m                         Traceback (most recent call last)",
      "Cell \u001b[0;32mIn[3], line 1\u001b[0m\n\u001b[0;32m----> 1\u001b[0m \u001b[43mie\u001b[49m\u001b[38;5;241;43m.\u001b[39;49m\u001b[43miso_evo\u001b[49m\u001b[43m(\u001b[49m\u001b[43mt_step_Myr\u001b[49m\u001b[43m,\u001b[49m\u001b[43mend_time_Myr\u001b[49m\u001b[43m,\u001b[49m\u001b[43mnr_step\u001b[49m\u001b[43m,\u001b[49m\u001b[43mnr_tol\u001b[49m\u001b[43m,\u001b[49m\u001b[43mDM_mass_f\u001b[49m\u001b[43m,\u001b[49m\u001b[43mDM_mass_f_sil\u001b[49m\u001b[43m,\u001b[49m\u001b[43mDM_ST\u001b[49m\u001b[43m,\u001b[49m\u001b[43mDM_33d\u001b[49m\u001b[43m,\u001b[49m\u001b[43mDM_34d\u001b[49m\u001b[43m,\u001b[49m\u001b[43mDM_36d\u001b[49m\u001b[43m,\u001b[49m\u001b[43mM_mass_f\u001b[49m\u001b[43m,\u001b[49m\u001b[43mM_mass_f_sil\u001b[49m\u001b[43m,\u001b[49m\u001b[43mM_ST\u001b[49m\u001b[43m,\u001b[49m\u001b[43mM_33d\u001b[49m\u001b[43m,\u001b[49m\u001b[43mM_34d\u001b[49m\u001b[43m,\u001b[49m\u001b[43mM_36d\u001b[49m\u001b[43m,\u001b[49m\u001b[43mF_mass_f\u001b[49m\u001b[43m,\u001b[49m\u001b[43mF_ST\u001b[49m\u001b[43m,\u001b[49m\u001b[43mF_33d\u001b[49m\u001b[43m,\u001b[49m\u001b[43mF_34d\u001b[49m\u001b[43m,\u001b[49m\u001b[43mF_36d\u001b[49m\u001b[43m,\u001b[49m\u001b[43mSS_mass_f\u001b[49m\u001b[43m,\u001b[49m\u001b[43mSS_ST\u001b[49m\u001b[43m,\u001b[49m\u001b[43mSS_33d\u001b[49m\u001b[43m,\u001b[49m\u001b[43mSS_34d\u001b[49m\u001b[43m,\u001b[49m\u001b[43mSS_36d\u001b[49m\u001b[43m,\u001b[49m\u001b[43mS_ST\u001b[49m\u001b[43m,\u001b[49m\u001b[43mS_33d\u001b[49m\u001b[43m,\u001b[49m\u001b[43mS_34d\u001b[49m\u001b[43m,\u001b[49m\u001b[43mS_36d\u001b[49m\u001b[43m,\u001b[49m\u001b[43mrate_f\u001b[49m\u001b[43m,\u001b[49m\u001b[43moscillate\u001b[49m\u001b[43m,\u001b[49m\u001b[43mresurf_cm_yr\u001b[49m\u001b[43m,\u001b[49m\u001b[43msil_mag_S\u001b[49m\u001b[43m,\u001b[49m\u001b[43mthick_C\u001b[49m\u001b[43m,\u001b[49m\u001b[43mf_S2\u001b[49m\u001b[43m,\u001b[49m\u001b[43mf_pl2mo\u001b[49m\u001b[43m,\u001b[49m\u001b[43mf_sq\u001b[49m\u001b[43m,\u001b[49m\u001b[43mf_deep\u001b[49m\u001b[43m,\u001b[49m\u001b[43mf_remobilised\u001b[49m\u001b[43m,\u001b[49m\u001b[43mf_pu\u001b[49m\u001b[43m)\u001b[49m\n\u001b[1;32m      2\u001b[0m \u001b[38;5;66;03m#ie.iso_evo_simple(t_step_Myr,end_time_Myr,nr_step,nr_tol,DM_mass_f,DM_mass_f_sil,DM_ST,DM_33d,DM_34d,DM_36d,M_mass_f,M_mass_f_sil,M_ST,M_33d,M_34d,M_36d,F_mass_f,F_ST,F_33d,F_34d,F_36d,SS_mass_f,SS_ST,SS_33d,SS_34d,SS_36d,S_ST,S_33d,S_34d,S_36d,rate_f,oscillate,resurf_cm_yr,sil_mag_S,thick_C,f_S2,f_pl2mo,f_sq,f_deep,f_remobilised,f_pu)\u001b[39;00m\n",
      "File \u001b[0;32m~/Tools/Galilean_moons/IoSisotopecycle/isotope_evolution.py:775\u001b[0m, in \u001b[0;36miso_evo\u001b[0;34m(t_step_Myr, end_time_Myr, nr_step, nr_tol, DM_mass_f, DM_mass_f_sil, DM_ST, DM_33d, DM_34d, DM_36d, M_mass_f, M_mass_f_sil, M_ST, M_33d, M_34d, M_36d, F_mass_f, F_ST, F_33d, F_34d, F_36d, SS_mass_f, SS_ST, SS_33d, SS_34d, SS_36d, S_ST, S_33d, S_34d, S_36d, rate_f, oscillate, resurf_cm_yr, sil_mag_S, thick_C, f_S2, f_pl2mo, f_sq, f_deep, f_remobilised, f_pu)\u001b[0m\n\u001b[1;32m    758\u001b[0m results2 \u001b[38;5;241m=\u001b[39m pd\u001b[38;5;241m.\u001b[39mDataFrame([[n,t_s_Myr,S_conc_M,\n\u001b[1;32m    759\u001b[0m                  M_34d,F_34d,SS_34d,S_34d,DM_34d,ao_34d,iS_34d,\n\u001b[1;32m    760\u001b[0m                  M_33d,F_33d,SS_33d,S_33d,DM_33d,ao_33d,iS_33d,\n\u001b[0;32m   (...)\u001b[0m\n\u001b[1;32m    772\u001b[0m                  M_36R, F_36R, SS_36R, S_36R,DM_36R,ao_36R,iS_36R,\n\u001b[1;32m    773\u001b[0m                  a33_bu,a34_bu,a36_bu,a33_eb,a34_eb,a36_eb]]) \n\u001b[1;32m    774\u001b[0m results \u001b[38;5;241m=\u001b[39m pd\u001b[38;5;241m.\u001b[39mconcat([results, results2], ignore_index\u001b[38;5;241m=\u001b[39m\u001b[38;5;28;01mTrue\u001b[39;00m)\n\u001b[0;32m--> 775\u001b[0m \u001b[38;5;28;01mif\u001b[39;00m(\u001b[43mn\u001b[49m\u001b[43m \u001b[49m\u001b[38;5;241;43m%\u001b[39;49m\u001b[43m \u001b[49m\u001b[38;5;241;43m1000\u001b[39;49m\u001b[38;5;241m==\u001b[39m\u001b[38;5;241m0\u001b[39m):\n\u001b[1;32m    776\u001b[0m     results\u001b[38;5;241m.\u001b[39mto_csv(\u001b[38;5;124m'\u001b[39m\u001b[38;5;124mtime_evolution.csv\u001b[39m\u001b[38;5;124m'\u001b[39m, index\u001b[38;5;241m=\u001b[39m\u001b[38;5;28;01mFalse\u001b[39;00m, header\u001b[38;5;241m=\u001b[39m\u001b[38;5;28;01mFalse\u001b[39;00m)\n\u001b[1;32m    777\u001b[0m \u001b[38;5;28;01mif\u001b[39;00m(n\u001b[38;5;241m==\u001b[39m(end\u001b[38;5;241m-\u001b[39m\u001b[38;5;241m1.\u001b[39m)):\n",
      "\u001b[0;31mKeyboardInterrupt\u001b[0m: "
     ]
    }
   ],
   "source": [
    "ie.iso_evo(t_step_Myr,end_time_Myr,nr_step,nr_tol,DM_mass_f,DM_mass_f_sil,DM_ST,DM_33d,DM_34d,DM_36d,M_mass_f,M_mass_f_sil,M_ST,M_33d,M_34d,M_36d,F_mass_f,F_ST,F_33d,F_34d,F_36d,SS_mass_f,SS_ST,SS_33d,SS_34d,SS_36d,S_ST,S_33d,S_34d,S_36d,rate_f,oscillate,resurf_cm_yr,sil_mag_S,thick_C,f_S2,f_pl2mo,f_sq,f_deep,f_remobilised,f_pu)\n",
    "#ie.iso_evo_simple(t_step_Myr,end_time_Myr,nr_step,nr_tol,DM_mass_f,DM_mass_f_sil,DM_ST,DM_33d,DM_34d,DM_36d,M_mass_f,M_mass_f_sil,M_ST,M_33d,M_34d,M_36d,F_mass_f,F_ST,F_33d,F_34d,F_36d,SS_mass_f,SS_ST,SS_33d,SS_34d,SS_36d,S_ST,S_33d,S_34d,S_36d,rate_f,oscillate,resurf_cm_yr,sil_mag_S,thick_C,f_S2,f_pl2mo,f_sq,f_deep,f_remobilised,f_pu)\n"
   ]
  },
  {
   "cell_type": "markdown",
   "metadata": {},
   "source": []
  },
  {
   "cell_type": "code",
   "execution_count": 5,
   "metadata": {},
   "outputs": [
    {
     "name": "stdout",
     "output_type": "stream",
     "text": [
      "None\n"
     ]
    }
   ],
   "source": [
    "# atmosphere\n",
    "profile = pd.read_csv(\"A_alt_T.csv\")\n",
    "F_33R = 0.00912537740657392\n",
    "F_34R = 0.0584588083452021\n",
    "F_36R = 0.000239082372396731\n",
    "\n",
    "output = ie.calc_atm(profile,F_33R,F_34R,F_36R)\n",
    "print(output)"
   ]
  },
  {
   "cell_type": "code",
   "execution_count": null,
   "metadata": {},
   "outputs": [],
   "source": []
  },
  {
   "cell_type": "code",
   "execution_count": null,
   "metadata": {},
   "outputs": [],
   "source": [
    "### range of fractionation factors at a single step ###\n",
    "ie.range_frac_fac_ss()\n",
    "\n",
    "### range of fractionation factors for various proportions of space to burial ###\n",
    "x_hg = 0.2\n",
    "ie.range_frac_fac_s2b(x_hg)"
   ]
  },
  {
   "cell_type": "code",
   "execution_count": null,
   "metadata": {},
   "outputs": [],
   "source": []
  },
  {
   "cell_type": "code",
   "execution_count": null,
   "metadata": {},
   "outputs": [],
   "source": [
    "# S isotope partitioning between core-mantle for various fractions in each #\n",
    "\n",
    "# inputs\n",
    "d_i = -0.02 # bulk d34S of Io\n",
    "step_size = 0.01 # step size for fraction of material in core/mantle\n",
    "\n",
    "# run model\n",
    "ie.calc_iso_variable(d_i,step_size)"
   ]
  },
  {
   "cell_type": "code",
   "execution_count": null,
   "metadata": {},
   "outputs": [],
   "source": []
  }
 ],
 "metadata": {
  "kernelspec": {
   "display_name": "base",
   "language": "python",
   "name": "python3"
  },
  "language_info": {
   "codemirror_mode": {
    "name": "ipython",
    "version": 3
   },
   "file_extension": ".py",
   "mimetype": "text/x-python",
   "name": "python",
   "nbconvert_exporter": "python",
   "pygments_lexer": "ipython3",
   "version": "3.9.12"
  }
 },
 "nbformat": 4,
 "nbformat_minor": 4
}
